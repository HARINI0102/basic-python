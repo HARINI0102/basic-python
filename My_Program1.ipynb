{
 "cells": [
  {
   "cell_type": "code",
   "execution_count": 4,
   "id": "db47e270",
   "metadata": {},
   "outputs": [
    {
     "name": "stdout",
     "output_type": "stream",
     "text": [
      "Hi I'm interested to learn python!\n"
     ]
    }
   ],
   "source": [
    "print(\"Hi I'm interested to learn python!\")"
   ]
  },
  {
   "cell_type": "code",
   "execution_count": 3,
   "id": "19936fa7",
   "metadata": {},
   "outputs": [
    {
     "name": "stdout",
     "output_type": "stream",
     "text": [
      "Harini K\n"
     ]
    }
   ],
   "source": [
    "print(\"Harini K\")"
   ]
  },
  {
   "cell_type": "markdown",
   "id": "c6dff306",
   "metadata": {},
   "source": [
    "# Data Types\n",
    "\n"
   ]
  },
  {
   "cell_type": "markdown",
   "id": "e2db75dd",
   "metadata": {},
   "source": [
    "# Data Type"
   ]
  },
  {
   "cell_type": "markdown",
   "id": "fe4844cb",
   "metadata": {},
   "source": [
    "# Data Type"
   ]
  },
  {
   "cell_type": "code",
   "execution_count": 11,
   "id": "b545ccb1",
   "metadata": {},
   "outputs": [
    {
     "data": {
      "text/plain": [
       "float"
      ]
     },
     "execution_count": 11,
     "metadata": {},
     "output_type": "execute_result"
    }
   ],
   "source": [
    "X = 10.6\n",
    "type(X)"
   ]
  },
  {
   "cell_type": "code",
   "execution_count": 12,
   "id": "42fa3c11",
   "metadata": {},
   "outputs": [
    {
     "data": {
      "text/plain": [
       "str"
      ]
     },
     "execution_count": 12,
     "metadata": {},
     "output_type": "execute_result"
    }
   ],
   "source": [
    "y=\"dogbarks\"\n",
    "type(y)"
   ]
  },
  {
   "cell_type": "code",
   "execution_count": 14,
   "id": "edca7608",
   "metadata": {},
   "outputs": [
    {
     "data": {
      "text/plain": [
       "bool"
      ]
     },
     "execution_count": 14,
     "metadata": {},
     "output_type": "execute_result"
    }
   ],
   "source": [
    "y=True\n",
    "type(y)"
   ]
  },
  {
   "cell_type": "code",
   "execution_count": 15,
   "id": "17eba13c",
   "metadata": {},
   "outputs": [
    {
     "data": {
      "text/plain": [
       "int"
      ]
     },
     "execution_count": 15,
     "metadata": {},
     "output_type": "execute_result"
    }
   ],
   "source": [
    "T=6\n",
    "type(T)"
   ]
  },
  {
   "cell_type": "markdown",
   "id": "c02df261",
   "metadata": {},
   "source": [
    "#### Variables"
   ]
  },
  {
   "cell_type": "code",
   "execution_count": 16,
   "id": "a3770cbe",
   "metadata": {},
   "outputs": [
    {
     "name": "stdout",
     "output_type": "stream",
     "text": [
      "('carrot', 'ladysfinger')\n"
     ]
    }
   ],
   "source": [
    "vegies = \"carrot\",\"ladysfinger\" \n",
    "print(vegies)"
   ]
  },
  {
   "cell_type": "code",
   "execution_count": 17,
   "id": "6812026e",
   "metadata": {},
   "outputs": [
    {
     "ename": "SyntaxError",
     "evalue": "invalid decimal literal (2156068847.py, line 1)",
     "output_type": "error",
     "traceback": [
      "\u001b[1;36m  Cell \u001b[1;32mIn[17], line 1\u001b[1;36m\u001b[0m\n\u001b[1;33m    2ot_eqp =\"diathermy\",\"ot light\",\"laproscopy\"\u001b[0m\n\u001b[1;37m    ^\u001b[0m\n\u001b[1;31mSyntaxError\u001b[0m\u001b[1;31m:\u001b[0m invalid decimal literal\n"
     ]
    }
   ],
   "source": [
    "2ot_eqp =\"diathermy\",\"ot light\",\"laproscopy\" #no numeric in starting of variable,no special charecter except underscore\n",
    "print(2ot_eq)"
   ]
  },
  {
   "cell_type": "code",
   "execution_count": 21,
   "id": "8af5347e",
   "metadata": {},
   "outputs": [
    {
     "name": "stdout",
     "output_type": "stream",
     "text": [
      "('diathermy', 'ot light', 'laproscopy')\n"
     ]
    }
   ],
   "source": [
    "ot_eqp =\"diathermy\",\"ot light\",\"laproscopy\"\n",
    "print(ot_eqp)"
   ]
  },
  {
   "cell_type": "code",
   "execution_count": 22,
   "id": "322c1b1b",
   "metadata": {},
   "outputs": [
    {
     "ename": "SyntaxError",
     "evalue": "invalid syntax (1553723964.py, line 1)",
     "output_type": "error",
     "traceback": [
      "\u001b[1;36m  Cell \u001b[1;32mIn[22], line 1\u001b[1;36m\u001b[0m\n\u001b[1;33m    name list = 'hari','ram','jai'\u001b[0m\n\u001b[1;37m         ^\u001b[0m\n\u001b[1;31mSyntaxError\u001b[0m\u001b[1;31m:\u001b[0m invalid syntax\n"
     ]
    }
   ],
   "source": [
    "name list = 'hari','ram','jai' #space is not allowed ,keywords as variable name is not allowed\n",
    "name list"
   ]
  },
  {
   "cell_type": "code",
   "execution_count": 23,
   "id": "c4fe846b",
   "metadata": {},
   "outputs": [
    {
     "data": {
      "text/plain": [
       "('hari', 'ram', 'jai')"
      ]
     },
     "execution_count": 23,
     "metadata": {},
     "output_type": "execute_result"
    }
   ],
   "source": [
    "namelist = 'hari','ram','jai' #space is not allowed ####python is case-sensitive x,X is different!\n",
    "namelist"
   ]
  },
  {
   "cell_type": "markdown",
   "id": "ff9eddd1",
   "metadata": {},
   "source": [
    "# Data structures"
   ]
  },
  {
   "cell_type": "markdown",
   "id": "39346481",
   "metadata": {},
   "source": [
    "# LIST"
   ]
  },
  {
   "cell_type": "code",
   "execution_count": 26,
   "id": "c2f54908",
   "metadata": {},
   "outputs": [
    {
     "name": "stdout",
     "output_type": "stream",
     "text": [
      "[7, 9, 0, 8.8, 9.5, 'hello', 90]\n"
     ]
    },
    {
     "data": {
      "text/plain": [
       "list"
      ]
     },
     "execution_count": 26,
     "metadata": {},
     "output_type": "execute_result"
    }
   ],
   "source": [
    "sample_list=[7,9,0,8.8,9.5,\"hello\",90] #list is heterogeneous ,can contains duplicates\n",
    "print(sample_list)\n",
    "type(sample_list)"
   ]
  },
  {
   "cell_type": "code",
   "execution_count": 27,
   "id": "f6558b27",
   "metadata": {},
   "outputs": [
    {
     "data": {
      "text/plain": [
       "'hello'"
      ]
     },
     "execution_count": 27,
     "metadata": {},
     "output_type": "execute_result"
    }
   ],
   "source": [
    "sample_list[-2] #list uses square[] brackets\n",
    "                 #indexing starts from 0 forward and -1,-2 backwards"
   ]
  },
  {
   "cell_type": "code",
   "execution_count": 29,
   "id": "59ef13d6",
   "metadata": {},
   "outputs": [
    {
     "data": {
      "text/plain": [
       "[7, 9, 0, 8.8, 9.5, 10789, 90]"
      ]
     },
     "execution_count": 29,
     "metadata": {},
     "output_type": "execute_result"
    }
   ],
   "source": [
    "sample_list[5]=10789\n",
    "sample_list"
   ]
  },
  {
   "cell_type": "markdown",
   "id": "c0859046",
   "metadata": {},
   "source": [
    "# ##Tuple"
   ]
  },
  {
   "cell_type": "code",
   "execution_count": 30,
   "id": "3e82952f",
   "metadata": {},
   "outputs": [
    {
     "data": {
      "text/plain": [
       "('hi', 'ki', 90, 7.8)"
      ]
     },
     "execution_count": 30,
     "metadata": {},
     "output_type": "execute_result"
    }
   ],
   "source": [
    "sample_tuple ='hi','ki',90,7.8\n",
    "sample_tuple"
   ]
  },
  {
   "cell_type": "code",
   "execution_count": 31,
   "id": "1440f5aa",
   "metadata": {},
   "outputs": [
    {
     "data": {
      "text/plain": [
       "('hi', 'ki', 90, 7.8)"
      ]
     },
     "execution_count": 31,
     "metadata": {},
     "output_type": "execute_result"
    }
   ],
   "source": [
    "sample_tuple =('hi','ki',90,7.8)\n",
    "sample_tuple"
   ]
  },
  {
   "cell_type": "code",
   "execution_count": 32,
   "id": "1a003e30",
   "metadata": {},
   "outputs": [
    {
     "data": {
      "text/plain": [
       "tuple"
      ]
     },
     "execution_count": 32,
     "metadata": {},
     "output_type": "execute_result"
    }
   ],
   "source": [
    "type (sample_tuple)"
   ]
  },
  {
   "cell_type": "code",
   "execution_count": 34,
   "id": "3c10ca48",
   "metadata": {},
   "outputs": [
    {
     "data": {
      "text/plain": [
       "'hi'"
      ]
     },
     "execution_count": 34,
     "metadata": {},
     "output_type": "execute_result"
    }
   ],
   "source": [
    "sample_tuple[-4]"
   ]
  },
  {
   "cell_type": "code",
   "execution_count": 36,
   "id": "5c586840",
   "metadata": {},
   "outputs": [
    {
     "ename": "TypeError",
     "evalue": "'tuple' object does not support item assignment",
     "output_type": "error",
     "traceback": [
      "\u001b[1;31m---------------------------------------------------------------------------\u001b[0m",
      "\u001b[1;31mTypeError\u001b[0m                                 Traceback (most recent call last)",
      "Cell \u001b[1;32mIn[36], line 1\u001b[0m\n\u001b[1;32m----> 1\u001b[0m sample_tuple[\u001b[38;5;241m2\u001b[39m] \u001b[38;5;241m=\u001b[39m \u001b[38;5;124m'\u001b[39m\u001b[38;5;124mpoet\u001b[39m\u001b[38;5;124m'\u001b[39m\n\u001b[0;32m      2\u001b[0m sample_tuple\n",
      "\u001b[1;31mTypeError\u001b[0m: 'tuple' object does not support item assignment"
     ]
    }
   ],
   "source": [
    "sample_tuple[2] = 'poet' #tuples cannot make changes,(immutable), can contain duplicates\n",
    "sample_tuple"
   ]
  },
  {
   "cell_type": "markdown",
   "id": "1e832fb1",
   "metadata": {},
   "source": [
    "# dictionary"
   ]
  },
  {
   "cell_type": "code",
   "execution_count": 40,
   "id": "eecd92d0",
   "metadata": {},
   "outputs": [
    {
     "data": {
      "text/plain": [
       "{'flower': 'jasmine', 'quantity': '4kg', 'amount': 800}"
      ]
     },
     "execution_count": 40,
     "metadata": {},
     "output_type": "execute_result"
    }
   ],
   "source": [
    "dic_points = {'flower': \"jasmine\" , \"quantity\": \"4kg\", \"amount\": 800 }\n",
    "dic_points"
   ]
  },
  {
   "cell_type": "code",
   "execution_count": 44,
   "id": "6dacb60c",
   "metadata": {},
   "outputs": [
    {
     "data": {
      "text/plain": [
       "dict_keys(['flower', 'quantity', 'amount'])"
      ]
     },
     "execution_count": 44,
     "metadata": {},
     "output_type": "execute_result"
    }
   ],
   "source": [
    "dic_points.keys()"
   ]
  },
  {
   "cell_type": "code",
   "execution_count": 45,
   "id": "de31eae6",
   "metadata": {},
   "outputs": [
    {
     "data": {
      "text/plain": [
       "dict_values(['jasmine', '4kg', 800])"
      ]
     },
     "execution_count": 45,
     "metadata": {},
     "output_type": "execute_result"
    }
   ],
   "source": [
    "dic_points.values()"
   ]
  },
  {
   "cell_type": "code",
   "execution_count": 47,
   "id": "e7f413f5",
   "metadata": {},
   "outputs": [
    {
     "data": {
      "text/plain": [
       "{'flower': 'rose', 'quantity': '4kg', 'amount': 800}"
      ]
     },
     "execution_count": 47,
     "metadata": {},
     "output_type": "execute_result"
    }
   ],
   "source": [
    "dic_points[\"flower\"] = \"rose\" #dic is mutable (can make changes),heterogeneous,should use curly braces\n",
    "dic_points"
   ]
  },
  {
   "cell_type": "markdown",
   "id": "3253bb0c",
   "metadata": {},
   "source": [
    "# set"
   ]
  },
  {
   "cell_type": "code",
   "execution_count": 58,
   "id": "61379c78",
   "metadata": {},
   "outputs": [
    {
     "data": {
      "text/plain": [
       "{-6, 11, 2, 3.6, 5, 6.7, 7, 8, 8.9, 9.0, 'ctscan', 'mri'}"
      ]
     },
     "execution_count": 58,
     "metadata": {},
     "output_type": "execute_result"
    }
   ],
   "source": [
    "set_sample = {-6,8,9.0,11,11,11,8.9,11,6.7,\"mri\",\"ctscan\",3.6,2,5,7,8} #no duplicates will be allowed #immutable #sorted\n",
    "set_sample"
   ]
  },
  {
   "cell_type": "code",
   "execution_count": 60,
   "id": "79381f22",
   "metadata": {},
   "outputs": [
    {
     "ename": "TypeError",
     "evalue": "'set' object is not subscriptable",
     "output_type": "error",
     "traceback": [
      "\u001b[1;31m---------------------------------------------------------------------------\u001b[0m",
      "\u001b[1;31mTypeError\u001b[0m                                 Traceback (most recent call last)",
      "Cell \u001b[1;32mIn[60], line 1\u001b[0m\n\u001b[1;32m----> 1\u001b[0m set_sample[\u001b[38;5;241m2\u001b[39m]\n",
      "\u001b[1;31mTypeError\u001b[0m: 'set' object is not subscriptable"
     ]
    }
   ],
   "source": [
    "set_sample[2] #no indexing will work"
   ]
  },
  {
   "cell_type": "code",
   "execution_count": 61,
   "id": "d5de69c0",
   "metadata": {},
   "outputs": [
    {
     "data": {
      "text/plain": [
       "{-6, 11, 2, 3.6, 5, 6.7, 7, 8, 8.9, 9.0, 9876, 'ctscan', 'mri'}"
      ]
     },
     "execution_count": 61,
     "metadata": {},
     "output_type": "execute_result"
    }
   ],
   "source": [
    "set_sample.add(9876)\n",
    "set_sample"
   ]
  },
  {
   "cell_type": "code",
   "execution_count": 62,
   "id": "11c6cec7",
   "metadata": {},
   "outputs": [
    {
     "data": {
      "text/plain": [
       "{-6, 11, 2, 3.6, 5, 6.7, 7, 8, 9.0, 9876, 'ctscan', 'mri'}"
      ]
     },
     "execution_count": 62,
     "metadata": {},
     "output_type": "execute_result"
    }
   ],
   "source": [
    "set_sample.remove(8.9)\n",
    "set_sample"
   ]
  },
  {
   "cell_type": "code",
   "execution_count": null,
   "id": "b4806ab7",
   "metadata": {},
   "outputs": [],
   "source": [
    "#set is mutable not with indexing but by adding and removing  keywords "
   ]
  },
  {
   "cell_type": "code",
   "execution_count": null,
   "id": "c2d01874",
   "metadata": {},
   "outputs": [],
   "source": []
  }
 ],
 "metadata": {
  "kernelspec": {
   "display_name": "Python 3 (ipykernel)",
   "language": "python",
   "name": "python3"
  },
  "language_info": {
   "codemirror_mode": {
    "name": "ipython",
    "version": 3
   },
   "file_extension": ".py",
   "mimetype": "text/x-python",
   "name": "python",
   "nbconvert_exporter": "python",
   "pygments_lexer": "ipython3",
   "version": "3.11.5"
  }
 },
 "nbformat": 4,
 "nbformat_minor": 5
}
